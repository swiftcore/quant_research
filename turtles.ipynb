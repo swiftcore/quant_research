{
 "cells": [
  {
   "cell_type": "markdown",
   "metadata": {},
   "source": [
    "# 海龟交易系统"
   ]
  },
  {
   "cell_type": "markdown",
   "metadata": {},
   "source": [
    "## 1 简介\n",
    "交易系统的几个组成部分：\n",
    "\n",
    "\n",
    "`\n",
    "Markets - What to buy or sell     选股\n",
    "Position Sizing - How much to buy or sell    仓位管理\n",
    "Entries - When to buy or sell                        入场点\n",
    "Stops - When to get out of a losing position  止损点\n",
    "Exits - When to get out of a winning position   止盈点\n",
    "Tactics - How to buy and sell                          挂单技术\n",
    "`\n",
    "\n",
    "## 2 Market\n",
    "选择流动性好的市场。\n",
    "\n",
    "\n",
    "流动性如果不好，下单后不能及时成交，如果要成交需要提高价格买或者压低价格卖，流动性越差，这个提高或压低价格的幅度也就也大，这样会很大的影响原来\n",
    "基于较为平稳的价格产生的成交估算，导致很大的误差发生。\n",
    "\n",
    "## 3 Position Sizing\n",
    "\n",
    "\n",
    "`\n",
    "真实波动值\n",
    "True Range(TR) = max(H-L, H-PDC, PDC-L)\n",
    "            其中： H 当日最高价\n",
    "                  L 当日最低价\n",
    "                  PDC  昨日收盘价\n",
    "            N是20日 TR 的移动均值\n",
    "            原系统给出的N计算公式\n",
    "`\n",
    "$$ N = \\frac{19 \\times PDN + TR}{20} $$\n",
    "\n",
    "其中：PDN是前一日的N值\n",
    "\n",
    "\n",
    "不必过分纠结于移动均值，也可以使用更便于理解的均值来替代移动均值。\n",
    "\n",
    "移动均值的优点：（1）良好的平滑性。 缺点（1）反应不够灵敏；（2）迭代计算，不太容易平行化。（3）计算得到的均值数值和起点有关。\n",
    "\n",
    "均值的优点：（1）非迭代计算，便于优化。（2）反应灵敏。缺点（1）平滑性比较弱，容易受到极端数值的影响。\n",
    "\n",
    "均值计算法\n",
    "$$ N = \\frac{N_{-19}+N_{-18} + \\cdots + N_{-1} + TR}{20} $$\n",
    "\n",
    "为了更加严格起见，我们需要验证一下，这种替换的确不会导致较大的误差。\n",
    "自动生成10000个随机波动数据，看两种算法产生的偏差。\n",
    "假设波动率是 N(0, 3) 的正态分布，则移动均值和均值的误差 分布大约是 (0, 0.3) 的正太分布。\n",
    "\n",
    "### 3.1 验证移动均值和均值计算方法之间的误差"
   ]
  },
  {
   "cell_type": "code",
   "execution_count": 26,
   "metadata": {
    "collapsed": true
   },
   "outputs": [],
   "source": [
    "import numpy as np\n",
    "import pandas as pd\n",
    "import matplotlib.pyplot as plt\n",
    "import tquotes.tquotes as tq\n",
    "import tquotes.algos as algos\n",
    "import math\n",
    "\n",
    "%matplotlib inline"
   ]
  },
  {
   "cell_type": "code",
   "execution_count": 2,
   "metadata": {
    "collapsed": true
   },
   "outputs": [],
   "source": [
    "def iter_compute(series, w=20):\n",
    "    res = []\n",
    "    prev = sum(series[:w])/w\n",
    "    for e in series[w:]:\n",
    "        cur = (prev*(w-1) + e) / w\n",
    "        res.append(cur)\n",
    "        prev=cur\n",
    "    \n",
    "    return np.array(res)"
   ]
  },
  {
   "cell_type": "code",
   "execution_count": 3,
   "metadata": {
    "collapsed": false
   },
   "outputs": [],
   "source": [
    "def batch_compute(series, w=20):\n",
    "    res = []\n",
    "    for i in range(w,len(series)):\n",
    "        res.append(sum(series[i-w+1:i+1])/w)\n",
    "    return np.array(res)"
   ]
  },
  {
   "cell_type": "code",
   "execution_count": 4,
   "metadata": {
    "collapsed": false
   },
   "outputs": [
    {
     "name": "stdout",
     "output_type": "stream",
     "text": [
      "5 diff mean 0.0004 diff std 0.6103\n",
      "20 diff mean 0.0014 diff std 0.3271\n",
      "60 diff mean 0.0014 diff std 0.1898\n"
     ]
    }
   ],
   "source": [
    "# 生成随机的波动率\n",
    "volatility = np.random.normal(0, 3, 10000)\n",
    "\n",
    "# 计算移动平均\n",
    "ma_vols_5 = iter_compute(volatility, w=5)\n",
    "ma_vols_20 = iter_compute(volatility)\n",
    "ma_vols_60 = iter_compute(volatility, w=60)\n",
    "# 计算平均\n",
    "a_vols_5 = batch_compute(volatility, w=5)\n",
    "a_vols_20 = batch_compute(volatility)\n",
    "a_vols_60 = batch_compute(volatility, w=60)\n",
    "\n",
    "\n",
    "# 获取移动平均和平均的差\n",
    "diffs_5 = ma_vols_5 - a_vols_5\n",
    "diffs_20 = ma_vols_20 - a_vols_20\n",
    "diffs_60 = ma_vols_60 - a_vols_60\n",
    "\n",
    "print('5 diff mean {:.4f}'.format(np.mean(diffs_5)), 'diff std {:.4f}'.format(np.std(diffs_5)))\n",
    "print('20 diff mean {:.4f}'.format(np.mean(diffs_20)), 'diff std {:.4f}'.format(np.std(diffs_20)))\n",
    "print('60 diff mean {:.4f}'.format(np.mean(diffs_60)), 'diff std {:.4f}'.format(np.std(diffs_60)))"
   ]
  },
  {
   "cell_type": "code",
   "execution_count": 5,
   "metadata": {
    "collapsed": false
   },
   "outputs": [
    {
     "data": {
      "image/png": "[encoded data removed]",
      "text/plain": [
       "<matplotlib.figure.Figure at 0x10fa673c8>"
      ]
     },
     "metadata": {},
     "output_type": "display_data"
    }
   ],
   "source": [
    "# 绘制 差值 的概率分布\n",
    "# fig = plt.figure(figsize=(13,8))\n",
    "plt.hist(diffs_5)\n",
    "plt.hist(diffs_20)\n",
    "plt.hist(diffs_60)\n",
    "plt.legend(labels=['diff_5', 'diff_20', 'diff_60'])\n",
    "\n",
    "plt.show()"
   ]
  },
  {
   "cell_type": "markdown",
   "metadata": {},
   "source": [
    "从上面的差值概率统计可以看出，在短周期下，容易产生较大的误差，对于20日以上的中场周期，均值可以近似替代移动均值。"
   ]
  },
  {
   "cell_type": "markdown",
   "metadata": {},
   "source": [
    "### 3.2 指标值实现"
   ]
  },
  {
   "cell_type": "code",
   "execution_count": 6,
   "metadata": {
    "collapsed": true
   },
   "outputs": [],
   "source": [
    "def turtle_tr(bars):\n",
    "    \"\"\"\n",
    "    计算得到 TR 值\n",
    "    bars 格式 np.ndarray\n",
    "    tm,open,high,low,close,volume\n",
    "    \"\"\"\n",
    "    highs = bars[:, 2]\n",
    "    lows = bars[:, 3]\n",
    "    closes = bars[:, 4].copy()\n",
    "    close_sh = np.roll(closes, 1)\n",
    "    close_sh[0] = bars[0][1]  # set the empty prev close to the first open price\n",
    "    HmL = highs-lows\n",
    "    HmPDC = highs-close_sh\n",
    "    PDCmL = close_sh - lows\n",
    "    \n",
    "    mat = np.zeros((len(HmL), 3))\n",
    "    mat[:, 0] = HmL\n",
    "    mat[:, 1] = HmPDC\n",
    "    mat[:, 2] = PDCmL\n",
    "    \n",
    "    return np.max(mat, axis=1)"
   ]
  },
  {
   "cell_type": "code",
   "execution_count": 7,
   "metadata": {
    "collapsed": true
   },
   "outputs": [],
   "source": [
    "def turtle_tr_norm(bars):\n",
    "    \"\"\"\n",
    "    计算得到 TR 值，以百分比的形式表示，TR按照价格计算是有些问题的\n",
    "    100元的股票和1元的股票，tr值会有很大的差异，不能体现百分比形式的账户变动\n",
    "    bars 格式 np.ndarray\n",
    "    tm,open,high,low,close,volume\n",
    "    \"\"\"\n",
    "    highs = bars[:, 2]\n",
    "    lows = bars[:, 3]\n",
    "    closes = bars[:, 4].copy()\n",
    "    close_sh = np.roll(closes, 1)\n",
    "    close_sh[0] = bars[0][1]  # set the empty prev close to the first open price\n",
    "    HmL = highs-lows\n",
    "    HmPDC = highs-close_sh\n",
    "    PDCmL = close_sh - lows\n",
    "    \n",
    "    mat = np.zeros((len(HmL), 3))\n",
    "    mat[:, 0] = HmL\n",
    "    mat[:, 1] = HmPDC\n",
    "    mat[:, 2] = PDCmL\n",
    "    \n",
    "    return np.max(mat, axis=1) / close_sh * 100"
   ]
  },
  {
   "cell_type": "code",
   "execution_count": 8,
   "metadata": {
    "collapsed": true
   },
   "outputs": [],
   "source": [
    "def turtle_N(trs, wsize=20):\n",
    "    \"\"\"\n",
    "    计算N\n",
    "    \"\"\"\n",
    "    prevn = trs[0]\n",
    "    N = [prevn]\n",
    "    for e in trs[1:]:\n",
    "        N.append(((wsize-1)*prevn+e)/wsize)\n",
    "    \n",
    "    return np.array(N)"
   ]
  },
  {
   "cell_type": "code",
   "execution_count": 9,
   "metadata": {
    "collapsed": true
   },
   "outputs": [],
   "source": [
    "def turtle_N_average(trs, wsize=20):\n",
    "    \"\"\"\n",
    "    用均值替代移动均值来计算N\n",
    "    \"\"\"\n",
    "    N = np.zeros(trs.shape[0])\n",
    "    N[0] = trs[0]\n",
    "    for i in range(1, wsize):\n",
    "        N[i] = np.sum(trs[:i])/i\n",
    "    for i in range(wsize,trs.shape[0]):\n",
    "        N[i] = np.sum(trs[i-wsize+1:i+1])/wsize\n",
    "    \n",
    "    return N"
   ]
  },
  {
   "cell_type": "code",
   "execution_count": 10,
   "metadata": {
    "collapsed": false
   },
   "outputs": [],
   "source": [
    "dayData = tq.load_day_data('000002')"
   ]
  },
  {
   "cell_type": "code",
   "execution_count": 11,
   "metadata": {
    "collapsed": false
   },
   "outputs": [
    {
     "data": {
      "text/html": [
       "<div>\n",
       "<table border=\"1\" class=\"dataframe\">\n",
       "  <thead>\n",
       "    <tr style=\"text-align: right;\">\n",
       "      <th></th>\n",
       "      <th>tm</th>\n",
       "      <th>open</th>\n",
       "      <th>high</th>\n",
       "      <th>low</th>\n",
       "      <th>close</th>\n",
       "      <th>volumn</th>\n",
       "      <th>in_money</th>\n",
       "      <th>out_money</th>\n",
       "      <th>amount</th>\n",
       "      <th>prev_close</th>\n",
       "    </tr>\n",
       "  </thead>\n",
       "  <tbody>\n",
       "    <tr>\n",
       "      <th>2012-01-04</th>\n",
       "      <td>20120104</td>\n",
       "      <td>7.47</td>\n",
       "      <td>7.65</td>\n",
       "      <td>7.32</td>\n",
       "      <td>7.33</td>\n",
       "      <td>474329</td>\n",
       "      <td>748590.56</td>\n",
       "      <td>1224538.59</td>\n",
       "      <td>3559734.86</td>\n",
       "      <td>7.47</td>\n",
       "    </tr>\n",
       "    <tr>\n",
       "      <th>2012-01-05</th>\n",
       "      <td>20120105</td>\n",
       "      <td>7.31</td>\n",
       "      <td>7.42</td>\n",
       "      <td>7.20</td>\n",
       "      <td>7.25</td>\n",
       "      <td>528117</td>\n",
       "      <td>1016367.58</td>\n",
       "      <td>1440398.42</td>\n",
       "      <td>3872808.23</td>\n",
       "      <td>7.33</td>\n",
       "    </tr>\n",
       "    <tr>\n",
       "      <th>2012-01-06</th>\n",
       "      <td>20120106</td>\n",
       "      <td>7.27</td>\n",
       "      <td>7.33</td>\n",
       "      <td>7.06</td>\n",
       "      <td>7.16</td>\n",
       "      <td>542769</td>\n",
       "      <td>671144.99</td>\n",
       "      <td>1505147.33</td>\n",
       "      <td>3893403.32</td>\n",
       "      <td>7.25</td>\n",
       "    </tr>\n",
       "    <tr>\n",
       "      <th>2012-01-09</th>\n",
       "      <td>20120109</td>\n",
       "      <td>7.16</td>\n",
       "      <td>7.41</td>\n",
       "      <td>7.08</td>\n",
       "      <td>7.41</td>\n",
       "      <td>846037</td>\n",
       "      <td>1640506.81</td>\n",
       "      <td>1436960.63</td>\n",
       "      <td>6119493.19</td>\n",
       "      <td>7.16</td>\n",
       "    </tr>\n",
       "    <tr>\n",
       "      <th>2012-01-10</th>\n",
       "      <td>20120110</td>\n",
       "      <td>7.35</td>\n",
       "      <td>7.61</td>\n",
       "      <td>7.32</td>\n",
       "      <td>7.53</td>\n",
       "      <td>1077976</td>\n",
       "      <td>2375330.45</td>\n",
       "      <td>2297404.70</td>\n",
       "      <td>8049177.86</td>\n",
       "      <td>7.41</td>\n",
       "    </tr>\n",
       "  </tbody>\n",
       "</table>\n",
       "</div>"
      ],
      "text/plain": [
       "                  tm  open  high   low  close   volumn    in_money  \\\n",
       "2012-01-04  20120104  7.47  7.65  7.32   7.33   474329   748590.56   \n",
       "2012-01-05  20120105  7.31  7.42  7.20   7.25   528117  1016367.58   \n",
       "2012-01-06  20120106  7.27  7.33  7.06   7.16   542769   671144.99   \n",
       "2012-01-09  20120109  7.16  7.41  7.08   7.41   846037  1640506.81   \n",
       "2012-01-10  20120110  7.35  7.61  7.32   7.53  1077976  2375330.45   \n",
       "\n",
       "             out_money      amount  prev_close  \n",
       "2012-01-04  1224538.59  3559734.86        7.47  \n",
       "2012-01-05  1440398.42  3872808.23        7.33  \n",
       "2012-01-06  1505147.33  3893403.32        7.25  \n",
       "2012-01-09  1436960.63  6119493.19        7.16  \n",
       "2012-01-10  2297404.70  8049177.86        7.41  "
      ]
     },
     "execution_count": 11,
     "metadata": {},
     "output_type": "execute_result"
    }
   ],
   "source": [
    "dayData.head()"
   ]
  },
  {
   "cell_type": "code",
   "execution_count": 12,
   "metadata": {
    "collapsed": false
   },
   "outputs": [
    {
     "name": "stdout",
     "output_type": "stream",
     "text": [
      "number of bars 1268.\n",
      "[ 0.33    0.3245  0.327  ...,  0.353   0.386   0.377 ] 1268\n",
      "[ 0.33   0.33   0.275 ...,  0.892  0.925  0.919] 1268\n"
     ]
    }
   ],
   "source": [
    "bars = dayData[['tm', 'open', 'high', 'low', 'close', 'volumn']].values\n",
    "# 波动率\n",
    "trs = turtle_tr(bars)\n",
    "# 移动平均版的N\n",
    "ma_Ns = turtle_N(trs)\n",
    "# 平均版的N\n",
    "a_Ns = turtle_N_average(trs)\n",
    "\n",
    "print('number of bars {}.'.format(bars.shape[0]))\n",
    "print(ma_Ns, ma_Ns.shape[0])\n",
    "print(a_Ns, a_Ns.shape[0])"
   ]
  },
  {
   "cell_type": "code",
   "execution_count": 13,
   "metadata": {
    "collapsed": false
   },
   "outputs": [
    {
     "name": "stdout",
     "output_type": "stream",
     "text": [
      "[ 4.41767068  4.34685536  4.38299405 ...,  4.33229315  4.44296711\n",
      "  4.42204433]\n",
      "[ 4.41767068  4.41767068  3.70951747 ...,  3.2880776   3.384693    3.34518828]\n"
     ]
    }
   ],
   "source": [
    "bars = dayData[['tm', 'open', 'high', 'low', 'close', 'volumn']].values\n",
    "# 波动率\n",
    "trs_norm = turtle_tr_norm(bars)\n",
    "# 移动平均版的N\n",
    "ma_Ns_norm = turtle_N(trs_norm)\n",
    "# 平均版的N\n",
    "a_Ns_norm = turtle_N_average(trs_norm)\n",
    "\n",
    "print(ma_Ns_norm)\n",
    "print(a_Ns_norm)"
   ]
  },
  {
   "cell_type": "markdown",
   "metadata": {},
   "source": [
    "### 3.3 N的不同计算方法，对所求得的N值的影响\n",
    "\n",
    "比较使用\n",
    "\n",
    "（1）移动均值的计算方法\n",
    "\n",
    "（2）均值的计算方法\n",
    "\n",
    "对所求得的N所产生的误差分析\n",
    "\n",
    "#### 3.3.1 波动率和两种计算N方法差别的分布\n",
    "\n",
    "首先，先来看一下波动率的分布，本例子中使用万科A从12年1月4日以来的日线数据。"
   ]
  },
  {
   "cell_type": "code",
   "execution_count": 14,
   "metadata": {
    "collapsed": false
   },
   "outputs": [
    {
     "data": {
      "image/png": "[encoded data removed]",
      "text/plain": [
       "<matplotlib.figure.Figure at 0x10fcb0ef0>"
      ]
     },
     "metadata": {},
     "output_type": "display_data"
    }
   ],
   "source": [
    "plt.hist(trs)\n",
    "plt.show()"
   ]
  },
  {
   "cell_type": "code",
   "execution_count": 15,
   "metadata": {
    "collapsed": false
   },
   "outputs": [
    {
     "data": {
      "image/png": "[encoded data removed]",
      "text/plain": [
       "<matplotlib.figure.Figure at 0x10fd6cba8>"
      ]
     },
     "metadata": {},
     "output_type": "display_data"
    }
   ],
   "source": [
    "plt.hist(trs_norm)\n",
    "plt.show()"
   ]
  },
  {
   "cell_type": "markdown",
   "metadata": {},
   "source": [
    "从上面波动率的结果来看，价格变动服从一个指数分布。涨跌比宾东服从泊松分布。\n",
    "\n",
    "下面，再来比较两种计算得到的N值之间的差异。"
   ]
  },
  {
   "cell_type": "code",
   "execution_count": 16,
   "metadata": {
    "collapsed": false
   },
   "outputs": [
    {
     "name": "stdout",
     "output_type": "stream",
     "text": [
      "diff mean -0.1536 diff std 0.3084\n"
     ]
    }
   ],
   "source": [
    "diff_n = ma_Ns - a_Ns\n",
    "print('diff mean {:.4f}'.format(np.mean(diff_n)), 'diff std {:.4f}'.format(np.std(diff_n)))"
   ]
  },
  {
   "cell_type": "code",
   "execution_count": 17,
   "metadata": {
    "collapsed": false
   },
   "outputs": [
    {
     "data": {
      "image/png": "[encoded data removed]",
      "text/plain": [
       "<matplotlib.figure.Figure at 0x10fd9f550>"
      ]
     },
     "metadata": {},
     "output_type": "display_data"
    }
   ],
   "source": [
    "plt.hist(diff_n)\n",
    "plt.show()"
   ]
  },
  {
   "cell_type": "code",
   "execution_count": 18,
   "metadata": {
    "collapsed": false
   },
   "outputs": [
    {
     "name": "stdout",
     "output_type": "stream",
     "text": [
      "norm diff mean 0.8562 norm diff std 1.2179\n"
     ]
    }
   ],
   "source": [
    "diff_n_norm = ma_Ns_norm - a_Ns_norm\n",
    "print('norm diff mean {:.4f}'.format(np.mean(diff_n_norm)), 'norm diff std {:.4f}'.format(np.std(diff_n_norm)))"
   ]
  },
  {
   "cell_type": "code",
   "execution_count": 19,
   "metadata": {
    "collapsed": false
   },
   "outputs": [
    {
     "data": {
      "image/png": "[encoded data removed]",
      "text/plain": [
       "<matplotlib.figure.Figure at 0x10fca7390>"
      ]
     },
     "metadata": {},
     "output_type": "display_data"
    }
   ],
   "source": [
    "plt.hist(diff_n_norm)\n",
    "plt.show()"
   ]
  },
  {
   "cell_type": "markdown",
   "metadata": {},
   "source": [
    "价格差异看着像个半正太分布，或者半studentT分布，价格变动比率的差异像个有偏的正态分布。\n",
    "\n",
    "验证结果可知，万科A的波动率，使用两种不同的计算N值方法，其价格也只在0.3元左右，价格变动的误差主要在[-0.5%, 2%]之间。\n",
    "\n",
    "在实际策略中，这两种实现是否可以相互替换使用，还要看后续调整其他参数以适应不同的实现能否达到相同效果。"
   ]
  },
  {
   "cell_type": "markdown",
   "metadata": {},
   "source": [
    "## 3.4 明确波动率计算的可能疑问\n",
    "\n",
    "在计算波动率时候，使用了H-L, H-PDC, PDC-L 三者中的最大值作为波动率的度量。\n",
    "\n",
    "其中H-L 一定是大于0 的了，另外两个可能小于0. 我首先的疑问是，如果拿一个正数和一个负数去做max，是不是有些奇怪了，这里的公式中是否缺少了取绝对值的操作呢？我总是本能的想在这里加个绝对值。\n",
    "\n",
    "然而，从上面的验证可以知道tr是指数型分布，不可能取到负值。进一步分析后，我才理清除这里确实不需要加绝对值操作。\n",
    "\n",
    "因为，当日K先和昨天的收盘无外乎两种情形。\n",
    "\n",
    "（1）今天是上涨行情，则最高价H一定大于PDC，那么只需要考虑L的情况了\n",
    "\n",
    "     （1.1）如果L小于PDC，则最大者是H-L，次者是H-PDC，其次是PDC - L\n",
    "     （2.2）如果L大于PDC，则最大者是H-PDC, 其次是H-L，其次是PDC-L \n",
    "     \n",
    "     L的取值，并不会影响到最大值的的波动性的选取。\n",
    "\n",
    "（2）今天是下跌行情，则最低价L一定小于PDC，PDC-L一定为正，只需要考虑H的情况\n",
    "\n",
    "      (2.1) 如果H小于PDC，则最大者是PDC-L，其次是H-L，而后是H-PDC\n",
    "      (2.2) 如果H大于PDC，则最大者是H-L，其次是H-PDC或PDC-L\n",
    "      \n",
    "     H的取值，也不会影响到最大值的的波动性的选取。\n",
    "     \n",
    "故，不需要取绝对值。\n"
   ]
  },
  {
   "cell_type": "markdown",
   "metadata": {},
   "source": [
    "## 3.5 N如何用在仓位控制上\n",
    "\n",
    "首先，看一下N值的分布情况"
   ]
  },
  {
   "cell_type": "code",
   "execution_count": 20,
   "metadata": {
    "collapsed": false
   },
   "outputs": [
    {
     "data": {
      "image/png": "[encoded data removed]",
      "text/plain": [
       "<matplotlib.figure.Figure at 0x110159b00>"
      ]
     },
     "metadata": {},
     "output_type": "display_data"
    }
   ],
   "source": [
    "plt.hist(ma_Ns)\n",
    "plt.show()"
   ]
  },
  {
   "cell_type": "code",
   "execution_count": 31,
   "metadata": {
    "collapsed": false
   },
   "outputs": [
    {
     "data": {
      "image/png": "[encoded data removed]",
      "text/plain": [
       "<matplotlib.figure.Figure at 0x1104f4978>"
      ]
     },
     "metadata": {},
     "output_type": "display_data"
    }
   ],
   "source": [
    "plt.hist(ma_Ns_norm)\n",
    "plt.show()"
   ]
  },
  {
   "cell_type": "markdown",
   "metadata": {},
   "source": [
    "N值是TR数值的线性组合，两者无论在理论上，还是从分布的图形上看，都是属于同种分布。从万科A的样本来说，主要分布在区间(0.32, 0.36)\n",
    "\n",
    "### 3.5.1 现金波动单位\n",
    "\n",
    "$$ Dollar\\ Volatility = N \\times Dollars\\ per\\ Point $$\n",
    "\n",
    "Dollars per Point 是买卖值的基本单位，如万科A，现在是10.0元，按照A股要求，最低买卖1手，价值为10 * 100 = 1000元。则Dollars per Point是1000元。\n",
    "\n",
    "由于平均来说，万科A大概每天波动0.35元，如果买入的是1手，就是平均波动 0.35 * 1000 = 350元，这就是现金波动单位。意味着使用日线的情况下，每天增加或减少350元, 连续同方向波动3天，才能完成所有的这一手波动。\n",
    "\n",
    "海龟操作单位Unit。\n",
    "\n",
    "$$ Unit = \\frac{1 \\% \\ of\\ Account}{Market\\ Dollar\\ Volatility} = \\frac{1 \\% \\ of\\ Account}{N \\times Dollar\\ per\\ Point} $$\n",
    "\n",
    "\n",
    "假设现在总账户有10万元，1%的账户就是1000元，计算Unit = 1000/350 = 2.857 手，四舍五入得3手。\n",
    "\n",
    "Level|Type|Maximum Units\n",
    "---|---|---\n",
    "1|Single Market| 4 Units\n",
    "2|Closely Related Market| 6 Units\n",
    "3|Loosely Related Market| 10 Units\n",
    "4|Single Direction - Long or Short| 12 Units\n",
    "\n",
    "Single Market 单个市场最大 4个 Units，以万科A为例，最大持仓12手=12000元，占总账户的12%\n",
    "\n",
    "Closely Correlated Markets 相关市场最大持仓 6个 Units，房地产类股票，最大持有18手=18000元，占总资产的18%\n",
    "\n",
    "Loosely Correlated Markets 地产，家电，医药等防御类最大持有10个Units，30手=30000元，占总资产的30%\n",
    "\n",
    "Single Direction 单方向操作做大持仓 12个Units，全市场最多持有36受=36000元，占总资产的36%\n",
    "\n",
    "### 3.5.2 调整总账户大小\n",
    "\n",
    "如果账户缩水 10%，就将总交易账户大小调低原来的20%，也就是从10万调整到8万。"
   ]
  },
  {
   "cell_type": "markdown",
   "metadata": {},
   "source": [
    "## 4 入场\n",
    "\n",
    "海龟系统并不很看重入场点的选择，其精华部分在于仓位控制算法。\n",
    "\n",
    "在原始的海龟系统中，使用的入场点位是Doncbian通道的突破点。Doncbian通道是n日内最高点和最低点的价格构成的区间，当价格上传通道顶价时，发生向上突破，当价格下穿通道底价时，发生向下突破。\n",
    "\n",
    "入场是可以使用长短期两种系统\n",
    "\n",
    "系统1 - 20日通道突破短期入场点\n",
    "\n",
    "    在日内，系统突破20日通道上界后1个tick，（1个tick可以是1分钟，5分钟或30分钟站稳，未回落到通道内），可以建立仓位。\n",
    "    \n",
    "    这里还需要记住之前的状态，如果之前已经有一个多头Unit，且处于盈利状态，这个信号就该忽略。但这个清除标记的动作不适用与55日的长周期，长周期通常是更加安全可靠的信号。\n",
    "    \n",
    "    如果之前建立的多头，向下移动了2*N个位置，则应该止损之前的头寸，清理掉已经建仓的标记，那么，这个信号就可以使用。\n",
    "\n",
    "系统2 - 55日通道突破长期入场点\n",
    "\n",
    "可以使用其中一个，或者按照比例混合使用。混合使用时，如果是50%，50%的混合比例，在系统1发生突破时，拿出准备买入的一半资金，买入系统1点，当系统2发生突破时，再买入另一半资金。\n",
    "\n",
    "### 4.1 加仓\n",
    "\n",
    "在第一次建仓的基础上，向上在增加0.5*N个波动单位，可以第二次加仓，这个0.5*N的幅度一定要再第一次成交价格的基础上，而不是突破价格。\n",
    "\n",
    "4次加仓的上浮幅度相同。\n",
    "\n",
    "如果N = 1.2；第一次建仓价格是28.3\n",
    "\n",
    "    则其后每次的加仓价格为\n",
    "    第一次  28.3\n",
    "    第二次  28.3 + 0.5*1.2 = 28.9\n",
    "    第三次  28.9 + 0.5*1.2 = 29.5\n",
    "    第四次  29.5 + 0.5*1.2 = 30.10\n",
    "\n",
    "上述规则的执行一定要保持一惯性，因为一年中的主要盈利都集中在2-3次大的交易之内，如果错失了这样的大交易，将会极大的影响到一年的收益情况。"
   ]
  },
  {
   "cell_type": "markdown",
   "metadata": {},
   "source": [
    "## 5 止损\n",
    "\n",
    "海龟系统的止损，也是基于平滑波动率N。海龟系统对于止损点的计算是基于总账户对最大回撤的容忍程度，如果总账户最大回撤容忍幅度是2%，则止损点映泰在最后一次建仓成交价格一下2*N的位置上。这以为着，后面多次建仓，建仓价格提高，止损价格也会随之提高。\n",
    "\n",
    "以原油为例：\n",
    "\n",
    "    N = 1.2\n",
    "    55 day breakout price = 28.30\n",
    "    \n",
    "Unit Num. | Entry Price | Stop\n",
    "--- | --- | ---\n",
    "First Unit | 28.30 | 25.90\n",
    "Second Unit | 28.90 | 27.10\n",
    "Third Unit | 29.50 | 27.70\n",
    "Fourth Unit | 31.80 | 27.40\n",
    "    \n",
    "    表格中，随着每次Unit增加，前面所有的Stop价格都调整为新增加的Unit的止损价，如当Second Unit加入后，First Unit的Stop价格调整为27.10\n",
    "\n",
    "\n",
    "### 5.1 whipsaw 止损\n",
    "\n",
    "除了上一小节所所的止损之外，还有一种whipsaw止损，这种止损可能导致更多的损失比例，但也是一种可选的方法。这种方法可能会有更多的收益，但从风险收益比来说，比之前的要低。\n",
    "\n",
    "whipsaw的止损在开仓位置一下的 1/2*N 位置，每个位置的止损价格不会随着后续开仓的发生而发生改变。\n",
    "\n",
    "还以原油为例：\n",
    "\n",
    "    N = 1.2\n",
    "    55 day breakout price = 28.30\n",
    "    \n",
    "Unit Num. | Entry Price | Stop\n",
    "--- | --- | ---\n",
    "First Unit | 28.30 | 27.70\n",
    "Second Unit | 28.90 | 28.30\n",
    "Third Unit | 29.50 | 28.90\n",
    "Fourth Unit | 30.10 | 29.50\n",
    "\n",
    "后续的Unit的增加，Stop价格不会发生变化。"
   ]
  },
  {
   "cell_type": "markdown",
   "metadata": {
    "collapsed": true
   },
   "source": [
    "## 6 离场\n",
    "\n",
    "系统1的退场：\n",
    "\n",
    "    以10天为周期，最高价和最低价建立一个通道，当向下突破通道时，离场多头单子，当向上突破10日时，离场空头单子。\n",
    "\n",
    "系统2的退场：\n",
    "\n",
    "    以20天为周期，最高价和最低价建立一个通道，当向下突破通道时，离场多头单子，当向上突破10日时，离场空头单子。\n",
    "\n",
    "\n"
   ]
  },
  {
   "cell_type": "markdown",
   "metadata": {},
   "source": [
    "## 7 其他关键点\n",
    "\n",
    "魔鬼都藏在细节当中，想做好细节很重要。\n",
    "\n",
    "最好使用限价单，而不是市价单。\n",
    "\n",
    "交易最强的板块，衡量强度的方法可以是，检查几个候选对象中，每个移动的单位N的个数，移动较多的，定位其为强势品种。\n"
   ]
  },
  {
   "cell_type": "markdown",
   "metadata": {},
   "source": [
    "## 8 海龟系统实现\n"
   ]
  },
  {
   "cell_type": "code",
   "execution_count": 38,
   "metadata": {
    "collapsed": true
   },
   "outputs": [],
   "source": [
    "def get_channels(bars, wsize=20):\n",
    "    \"\"\"\n",
    "    计算每个时间点上的通道\n",
    "    bars格式\n",
    "    tm,open,high,low,close,volume\n",
    "    \"\"\"\n",
    "    highs = bars[:, 2]\n",
    "    lows = bars[:, 3]\n",
    "    mat = np.zeros((highs.shape[0], 2))\n",
    "    \n",
    "    for i in range(1, wsize):\n",
    "        hh = np.max(highs[:i])\n",
    "        ll = np.min(lows[:i])\n",
    "        mat[i, 0] = hh\n",
    "        mat[i, 1] == ll\n",
    "    \n",
    "    for i in range(wsize, bars.shape[0]):\n",
    "        hh = np.max(highs[i-wsize:i])\n",
    "        ll = np.min(lows[i-wsize:i])\n",
    "        # 在i处看到的通道是 i-1及其之前共20个元素\n",
    "        mat[i, 0] = hh\n",
    "        mat[i, 1] = ll\n",
    "\n",
    "    return mat"
   ]
  },
  {
   "cell_type": "code",
   "execution_count": 47,
   "metadata": {
    "collapsed": true
   },
   "outputs": [],
   "source": [
    "class Account(object):\n",
    "    def __init__(self, init_capital=100000.0):\n",
    "        self.cur_capital = init_capital\n",
    "        self.capital_history = []\n",
    "        self.agents = []\n",
    "    \n",
    "    def register_agent(self, agent):\n",
    "        if agent not in self.agents:\n",
    "            self.agents.append(agent)\n",
    "    \n",
    "    def remove_agent(self, agent):\n",
    "        if agent in self.agent:\n",
    "            self.remove(agent)\n",
    "    \n",
    "    def make_snapshot(self, timestampe):\n",
    "        tot_assets = self.get_total_assets()\n",
    "        self.capital_history.append([timestampe, tot_assets])\n",
    "    \n",
    "    def add_money(self, mny):\n",
    "        self.cur_capital += mny\n",
    "    \n",
    "    def sub_money(self, mny):\n",
    "        self.cur_capital -= mny\n",
    "        \n",
    "    def get_current_money(self):\n",
    "        # 获取当前可用资金\n",
    "        return self.cur_capital\n",
    "    \n",
    "    def get_total_assets(self):\n",
    "        # 获取总资产\n",
    "        mny = 0.0\n",
    "        for agent in self.agents:\n",
    "            mny += agent.get_holding_assets()\n",
    "        \n",
    "        return self.cur_capital + mny"
   ]
  },
  {
   "cell_type": "code",
   "execution_count": 67,
   "metadata": {
    "collapsed": true
   },
   "outputs": [],
   "source": [
    "class TurtleAgent(object):\n",
    "    def __init__(self, symbol, account):\n",
    "        # 个股代码\n",
    "        self.symbol = symbol\n",
    "        # 账户\n",
    "        self.account = account\n",
    "        self.account.register_agent(self)\n",
    "        \n",
    "        # 入场信号生成所使用的周期\n",
    "        self.enter_period = 20\n",
    "        # 离场信号生成所使用的周期\n",
    "        self.exit_period = 10\n",
    "        # dataframe格式的日线数据\n",
    "        self.data = tq.load_day_data(self.symbol)\n",
    "        # ndarray格式的日线数据\n",
    "        self.bars = self.data[['tm', 'open', 'high', 'low', 'close', 'volumn']].values\n",
    "        # 入场通道数据\n",
    "        self.enter_channels = get_channels(self.bars, wsize=self.enter_period)\n",
    "        # 离场通道数据\n",
    "        self.exit_channles = get_channels(self.bars, wsize=self.exit_period)\n",
    "        # 平滑波动率 N\n",
    "        trs = turtle_tr(self.bars)\n",
    "        self.Ns = turtle_N(trs)\n",
    "        # 状态 \n",
    "        # init 可以开仓\n",
    "        # on   已经有持仓\n",
    "        # full 仓位已经满了\n",
    "        self.state = 'init'\n",
    "        # 当前指向的bar下表\n",
    "        self.bar_index = -1\n",
    "        # 当前持有的仓位数\n",
    "        self.units_num = 0\n",
    "        # 可以持有的最大仓位书\n",
    "        self.MAX_UNITS_NUM = 4\n",
    "        # 下单的单子列表，格式为\n",
    "        # start_index, price, position_num, stop_price\n",
    "        self.orders = []\n",
    "        # 交易记录\n",
    "        # 格式 order, type\n",
    "        # type可以是 \n",
    "        # buy 买入\n",
    "        # stop 止损\n",
    "        # exit 离场\n",
    "        self.trade_logs = []\n",
    "\n",
    "    def get_stop_price(self):\n",
    "        if len(self.orders) == 0:\n",
    "            return -1.0\n",
    "        \n",
    "        last_fill_price = self.orders[-1][1]\n",
    "        nValue = self.Ns[self.bar_index-1]\n",
    "        return last_fill_price - 2*nValue\n",
    "        \n",
    "    def get_holding_assets(self):\n",
    "        mny = 0.0\n",
    "        # current bar close price\n",
    "        cur_price = self.bars[self.bar_index][4]\n",
    "        \n",
    "        for order in self.orders:\n",
    "            mny += order[2]*cur_price*100.0\n",
    "        \n",
    "        return mny\n",
    "    \n",
    "    def get_buy_quantity(self, fill_price):\n",
    "        all_assets = self.account.get_total_assets()\n",
    "        # \n",
    "        mny_per_point = fill_price * 100.0\n",
    "        unit_size = self.Ns[self.bar_index] * mny_per_point\n",
    "        \n",
    "        qty = round(0.01*all_assets / unit_size)\n",
    "        \n",
    "        return qty\n",
    "    \n",
    "    def check_signal(self):\n",
    "        \"\"\"\n",
    "        检查应该发送什么样的信号\n",
    "        \"\"\"\n",
    "        if self.state == 'init':\n",
    "            # 检查是否可以开新仓\n",
    "            up_bound, low_bound = self.enter_channels[self.bar_index]\n",
    "            cur_high = self.bars[self.bar_index][2]\n",
    "            if cur_high > up_bound:\n",
    "                return 'buy', up_bound\n",
    "        elif self.state == 'on':\n",
    "            # 检查是否可以增仓或止损或退出\n",
    "            up_bound, low_bound = self.enter_channels[self.bar_index]\n",
    "            cur_high = self.bars[self.bar_index][2]\n",
    "            cur_low = self.bars[self.bar_index][3]\n",
    "            if cur_high > up_bound:\n",
    "                # 检查当前的最高价，是否已经超过了上次开仓价+0.5N的位置，如果是，可以增仓\n",
    "                last_fill_price = self.orders[-1][1]\n",
    "                nValue = self.Ns[self.bar_index]\n",
    "                if cur_high > last_fill_price + 0.5*nValue:\n",
    "                    return 'buy', up_bound\n",
    "            \n",
    "            last_stop_price = self.orders[-1][3]\n",
    "            if cur_low < last_stop_price:\n",
    "                # 触发止损\n",
    "                return 'stop', last_stop_price\n",
    "\n",
    "            up_bound, low_bound = self.exit_channles[self.bar_index]\n",
    "            if cur_low < low_bound:\n",
    "                # 退场信号\n",
    "                return 'exit', low_bound\n",
    "        elif self.state == 'full':\n",
    "            # 检查是否需要平仓或止损\n",
    "            up_bound, low_bound = self.exit_channles[self.bar_index]\n",
    "            cur_low = self.bars[self.bar_index][3]\n",
    "            if cur_low < low_bound:\n",
    "                # 满足退场条件\n",
    "                return 'exit', low_bound\n",
    "            \n",
    "            last_stop_price = self.orders[-1][3]\n",
    "            if cur_low < last_stop_price:\n",
    "                return 'stop', last_stop_price\n",
    "        \n",
    "        return '', -1.0\n",
    "\n",
    "    def run_sim(self):\n",
    "        \"\"\"\n",
    "        执行模拟\n",
    "        \"\"\"\n",
    "        for i in range(20, self.bars.shape[0]):\n",
    "            self.bar_index = i\n",
    "            signal, signal_price = self.check_signal()\n",
    "            if signal == 'buy':\n",
    "                # 计算购买数量，下单，生成止损价格并填充，更新账户可用现金\n",
    "                qty = self.get_buy_quantity(signal_price)\n",
    "                order = [self.bar_index, signal_price, qty, -1.0]\n",
    "                self.orders.append(order)\n",
    "                stop_price = self.get_stop_price()\n",
    "                order[3] = stop_price\n",
    "                self.units_num += 1\n",
    "                mny = qty*signal_price*100.0\n",
    "                self.account.sub_money(mny)\n",
    "                self.state = 'on'                \n",
    "                if self.units_num == self.MAX_UNITS_NUM:\n",
    "                    self.state = 'full'\n",
    "                print(\"buy stock at {} quantity {} price {}, {}/{} units {}\".format(self.bars[self.bar_index][0], qty, signal_price, self.units_num, self.MAX_UNITS_NUM, self.state))\n",
    "            elif signal == 'stop':\n",
    "                # 取出所有订单，计算卖出产生的资金，将资金加入到账户中，删除这些订单\n",
    "                mny = 0.0\n",
    "                totqty = 0.0\n",
    "                for order in self.orders:\n",
    "                    mny += signal_price * order[2] * 100\n",
    "                    totqty += order[2]\n",
    "                    \n",
    "                self.orders = []\n",
    "                self.account.add_money(mny)\n",
    "\n",
    "                self.state = 'init'\n",
    "                self.units_num = 0\n",
    "                print('stop stock at {} quantity {} price {}, {}/{} units {}'.format(self.bars[self.bar_index][0], totqty, signal_price, self.units_num, self.MAX_UNITS_NUM ,self.state))\n",
    "            elif signal == 'exit':\n",
    "                # 取出所有订单，计算卖出产生的资金，将资金加入到账户中，删除这些订单\n",
    "                mny = 0.0\n",
    "                totqty = 0.0\n",
    "                for order in self.orders:\n",
    "                    mny += signal_price * order[2] * 100\n",
    "                    totqty += order[2]\n",
    "                \n",
    "                self.orders = []\n",
    "                self.account.add_money(mny)\n",
    "                \n",
    "                self.state = 'init'\n",
    "                self.units_num = 0\n",
    "                print('exit stock at {} quantity {} price {}, {}/{} units {}'.format(self.bars[self.bar_index][0], totqty, signal_price, self.units_num, self.MAX_UNITS_NUM, self.state))\n",
    "            self.account.make_snapshot(self.bars[i][0])\n"
   ]
  },
  {
   "cell_type": "code",
   "execution_count": 68,
   "metadata": {
    "collapsed": false
   },
   "outputs": [
    {
     "name": "stdout",
     "output_type": "stream",
     "text": [
      "buy stock at 20120210.0 quantity 4.0 price 7.96, 1/4 units on\n",
      "buy stock at 20120222.0 quantity 4.0 price 8.02, 2/4 units on\n",
      "buy stock at 20120223.0 quantity 4.0 price 8.2, 3/4 units on\n",
      "buy stock at 20120224.0 quantity 4.0 price 8.3, 4/4 units full\n",
      "exit stock at 20120315.0 quantity 16.0 price 8.24, 0/4 units init\n",
      "buy stock at 20120412.0 quantity 4.0 price 8.69, 1/4 units on\n",
      "buy stock at 20120425.0 quantity 3.0 price 8.8, 2/4 units on\n",
      "buy stock at 20120426.0 quantity 4.0 price 8.91, 3/4 units on\n",
      "buy stock at 20120427.0 quantity 3.0 price 9.02, 4/4 units full\n",
      "exit stock at 20120515.0 quantity 14.0 price 8.84, 0/4 units init\n",
      "buy stock at 20120529.0 quantity 3.0 price 9.29, 1/4 units on\n",
      "buy stock at 20120530.0 quantity 3.0 price 9.38, 2/4 units on\n",
      "stop stock at 20120625.0 quantity 6.0 price 8.725000000000001, 0/4 units init\n",
      "buy stock at 20120706.0 quantity 3.0 price 9.44, 1/4 units on\n",
      "buy stock at 20120709.0 quantity 3.0 price 9.65, 2/4 units on\n",
      "buy stock at 20120716.0 quantity 3.0 price 9.9, 3/4 units on\n",
      "stop stock at 20120718.0 quantity 9.0 price 9.244, 0/4 units init\n",
      "buy stock at 20121023.0 quantity 4.0 price 8.5, 1/4 units on\n",
      "exit stock at 20121029.0 quantity 4.0 price 8.11, 0/4 units init\n",
      "buy stock at 20121101.0 quantity 3.0 price 8.57, 1/4 units on\n",
      "exit stock at 20121115.0 quantity 3.0 price 8.27, 0/4 units init\n",
      "buy stock at 20121130.0 quantity 3.0 price 8.73, 1/4 units on\n",
      "buy stock at 20121203.0 quantity 3.0 price 8.91, 2/4 units on\n",
      "buy stock at 20121205.0 quantity 3.0 price 9.0, 3/4 units on\n",
      "buy stock at 20121207.0 quantity 3.0 price 9.35, 4/4 units full\n",
      "exit stock at 20130219.0 quantity 12.0 price 11.51, 0/4 units init\n",
      "buy stock at 20130416.0 quantity 3.0 price 11.57, 1/4 units on\n",
      "buy stock at 20130417.0 quantity 3.0 price 11.66, 2/4 units on\n",
      "buy stock at 20130418.0 quantity 3.0 price 11.88, 3/4 units on\n",
      "stop stock at 20130423.0 quantity 9.0 price 11.207, 0/4 units init\n",
      "buy stock at 20130508.0 quantity 3.0 price 12.0, 1/4 units on\n",
      "stop stock at 20130514.0 quantity 3.0 price 11.339, 0/4 units init\n",
      "buy stock at 20130517.0 quantity 2.0 price 12.03, 1/4 units on\n",
      "buy stock at 20130520.0 quantity 2.0 price 12.2, 2/4 units on\n",
      "buy stock at 20130523.0 quantity 2.0 price 12.44, 3/4 units on\n",
      "stop stock at 20130524.0 quantity 6.0 price 11.771999999999998, 0/4 units init\n",
      "buy stock at 20130529.0 quantity 2.0 price 12.45, 1/4 units on\n",
      "stop stock at 20130604.0 quantity 2.0 price 11.758, 0/4 units init\n",
      "buy stock at 20130711.0 quantity 3.0 price 11.0, 1/4 units on\n",
      "stop stock at 20130715.0 quantity 3.0 price 10.307, 0/4 units init\n",
      "buy stock at 20130816.0 quantity 3.0 price 10.34, 1/4 units on\n",
      "stop stock at 20130821.0 quantity 3.0 price 9.689, 0/4 units init\n",
      "buy stock at 20131031.0 quantity 3.0 price 9.6, 1/4 units on\n",
      "stop stock at 20131107.0 quantity 3.0 price 8.942, 0/4 units init\n",
      "buy stock at 20140312.0 quantity 4.0 price 7.6, 1/4 units on\n",
      "buy stock at 20140313.0 quantity 4.0 price 7.84, 2/4 units on\n",
      "buy stock at 20140321.0 quantity 4.0 price 7.85, 3/4 units on\n",
      "buy stock at 20140324.0 quantity 4.0 price 8.08, 4/4 units full\n",
      "exit stock at 20140415.0 quantity 16.0 price 7.82, 0/4 units init\n",
      "buy stock at 20140523.0 quantity 4.0 price 8.15, 1/4 units on\n",
      "buy stock at 20140528.0 quantity 4.0 price 8.26, 2/4 units on\n",
      "buy stock at 20140529.0 quantity 4.0 price 8.46, 3/4 units on\n",
      "exit stock at 20140617.0 quantity 12.0 price 8.1, 0/4 units init\n",
      "buy stock at 20140707.0 quantity 4.0 price 8.55, 1/4 units on\n",
      "buy stock at 20140711.0 quantity 3.0 price 8.88, 2/4 units on\n",
      "buy stock at 20140722.0 quantity 3.0 price 9.02, 3/4 units on\n",
      "buy stock at 20140723.0 quantity 3.0 price 9.2, 4/4 units full\n",
      "exit stock at 20140808.0 quantity 13.0 price 9.47, 0/4 units init\n",
      "buy stock at 20140904.0 quantity 3.0 price 9.68, 1/4 units on\n",
      "buy stock at 20140905.0 quantity 3.0 price 9.77, 2/4 units on\n",
      "exit stock at 20140918.0 quantity 6.0 price 9.2, 0/4 units init\n",
      "buy stock at 20141111.0 quantity 3.0 price 9.63, 1/4 units on\n",
      "buy stock at 20141117.0 quantity 3.0 price 9.8, 2/4 units on\n",
      "exit stock at 20141119.0 quantity 6.0 price 9.23, 0/4 units init\n",
      "buy stock at 20141124.0 quantity 3.0 price 9.83, 1/4 units on\n",
      "buy stock at 20141127.0 quantity 3.0 price 10.29, 2/4 units on\n",
      "buy stock at 20141128.0 quantity 3.0 price 10.44, 3/4 units on\n",
      "buy stock at 20141202.0 quantity 3.0 price 10.99, 4/4 units full\n",
      "exit stock at 20141224.0 quantity 12.0 price 11.08, 0/4 units init\n",
      "buy stock at 20141231.0 quantity 2.0 price 13.19, 1/4 units on\n",
      "buy stock at 20150105.0 quantity 2.0 price 13.9, 2/4 units on\n",
      "stop stock at 20150112.0 quantity 4.0 price 13.131, 0/4 units init\n",
      "buy stock at 20150318.0 quantity 2.0 price 13.09, 1/4 units on\n",
      "buy stock at 20150320.0 quantity 2.0 price 13.19, 2/4 units on\n",
      "buy stock at 20150323.0 quantity 2.0 price 13.34, 3/4 units on\n",
      "stop stock at 20150326.0 quantity 6.0 price 12.658, 0/4 units init\n",
      "buy stock at 20150330.0 quantity 2.0 price 13.64, 1/4 units on\n",
      "buy stock at 20150331.0 quantity 2.0 price 14.47, 2/4 units on\n",
      "stop stock at 20150401.0 quantity 4.0 price 13.715, 0/4 units init\n",
      "buy stock at 20150420.0 quantity 2.0 price 14.96, 1/4 units on\n",
      "stop stock at 20150421.0 quantity 2.0 price 14.272, 0/4 units init\n",
      "buy stock at 20150423.0 quantity 2.0 price 15.08, 1/4 units on\n",
      "stop stock at 20150424.0 quantity 2.0 price 14.403, 0/4 units init\n",
      "buy stock at 20150514.0 quantity 2.0 price 15.2, 1/4 units on\n",
      "stop stock at 20150515.0 quantity 2.0 price 14.456, 0/4 units init\n",
      "buy stock at 20150526.0 quantity 2.0 price 15.58, 1/4 units on\n",
      "stop stock at 20150528.0 quantity 2.0 price 14.89, 0/4 units init\n",
      "buy stock at 20150608.0 quantity 2.0 price 15.86, 1/4 units on\n",
      "buy stock at 20150609.0 quantity 2.0 price 16.22, 2/4 units on\n",
      "stop stock at 20150610.0 quantity 4.0 price 15.518999999999998, 0/4 units init\n",
      "buy stock at 20150710.0 quantity 2.0 price 15.65, 1/4 units on\n",
      "stop stock at 20150713.0 quantity 2.0 price 14.845, 0/4 units init\n",
      "buy stock at 20150724.0 quantity 2.0 price 15.8, 1/4 units on\n",
      "stop stock at 20150727.0 quantity 2.0 price 15.098, 0/4 units init\n",
      "buy stock at 20151016.0 quantity 2.0 price 13.66, 1/4 units on\n",
      "buy stock at 20151026.0 quantity 2.0 price 13.8, 2/4 units on\n",
      "buy stock at 20151104.0 quantity 2.0 price 13.97, 3/4 units on\n",
      "buy stock at 20151105.0 quantity 2.0 price 14.1, 4/4 units full\n",
      "exit stock at 20160707.0 quantity 8.0 price 18.8, 0/4 units init\n",
      "buy stock at 20160804.0 quantity 1.0 price 19.21, 1/4 units on\n",
      "buy stock at 20160805.0 quantity 1.0 price 19.67, 2/4 units on\n",
      "buy stock at 20160808.0 quantity 1.0 price 21.63, 3/4 units on\n",
      "stop stock at 20160811.0 quantity 3.0 price 20.807, 0/4 units init\n",
      "buy stock at 20160815.0 quantity 1.0 price 22.92, 1/4 units on\n",
      "buy stock at 20160816.0 quantity 1.0 price 25.06, 2/4 units on\n",
      "buy stock at 20160818.0 quantity 1.0 price 27.57, 3/4 units on\n",
      "stop stock at 20160819.0 quantity 3.0 price 26.725, 0/4 units init\n",
      "buy stock at 20160922.0 quantity 1.0 price 25.28, 1/4 units on\n",
      "stop stock at 20160926.0 quantity 1.0 price 24.532, 0/4 units init\n",
      "buy stock at 20160930.0 quantity 1.0 price 27.08, 1/4 units on\n",
      "stop stock at 20161010.0 quantity 1.0 price 26.363999999999997, 0/4 units init\n",
      "buy stock at 20161110.0 quantity 1.0 price 27.25, 1/4 units on\n",
      "stop stock at 20161111.0 quantity 1.0 price 26.381, 0/4 units init\n",
      "buy stock at 20161118.0 quantity 1.0 price 28.22, 1/4 units on\n",
      "stop stock at 20161121.0 quantity 1.0 price 27.525, 0/4 units init\n",
      "buy stock at 20170314.0 quantity 1.0 price 20.98, 1/4 units on\n",
      "exit stock at 20170330.0 quantity 1.0 price 20.83, 0/4 units init\n",
      "buy stock at 20170525.0 quantity 1.0 price 20.53, 1/4 units on\n",
      "buy stock at 20170531.0 quantity 1.0 price 20.81, 2/4 units on\n",
      "buy stock at 20170612.0 quantity 1.0 price 21.55, 3/4 units on\n",
      "stop stock at 20170615.0 quantity 3.0 price 20.862000000000002, 0/4 units init\n",
      "buy stock at 20170623.0 quantity 1.0 price 22.79, 1/4 units on\n",
      "buy stock at 20170626.0 quantity 1.0 price 24.07, 2/4 units on\n",
      "buy stock at 20170712.0 quantity 1.0 price 26.48, 3/4 units on\n",
      "stop stock at 20170713.0 quantity 3.0 price 25.763, 0/4 units init\n",
      "buy stock at 20170828.0 quantity 1.0 price 24.11, 1/4 units on\n",
      "stop stock at 20170829.0 quantity 1.0 price 23.424, 0/4 units init\n",
      "buy stock at 20170907.0 quantity 1.0 price 24.41, 1/4 units on\n",
      "buy stock at 20170908.0 quantity 1.0 price 26.18, 2/4 units on\n",
      "buy stock at 20170911.0 quantity 1.0 price 26.28, 3/4 units on\n",
      "stop stock at 20170912.0 quantity 3.0 price 25.542, 0/4 units init\n",
      "buy stock at 20170914.0 quantity 1.0 price 26.39, 1/4 units on\n",
      "buy stock at 20170915.0 quantity 1.0 price 28.05, 2/4 units on\n",
      "stop stock at 20170925.0 quantity 2.0 price 27.174, 0/4 units init\n",
      "buy stock at 20171030.0 quantity 1.0 price 28.28, 1/4 units on\n",
      "buy stock at 20171031.0 quantity 1.0 price 28.99, 2/4 units on\n",
      "buy stock at 20171101.0 quantity 1.0 price 29.28, 3/4 units on\n",
      "stop stock at 20171103.0 quantity 3.0 price 28.555, 0/4 units init\n",
      "done\n"
     ]
    }
   ],
   "source": [
    "account = Account()\n",
    "agent = TurtleAgent('000002', account)\n",
    "\n",
    "agent.run_sim()\n",
    "print('done')"
   ]
  },
  {
   "cell_type": "code",
   "execution_count": 70,
   "metadata": {
    "collapsed": true
   },
   "outputs": [],
   "source": [
    "mnys = [row[1] for row in account.capital_history]\n"
   ]
  },
  {
   "cell_type": "code",
   "execution_count": 71,
   "metadata": {
    "collapsed": false
   },
   "outputs": [
    {
     "data": {
      "image/png": "[encoded data removed]",
      "text/plain": [
       "<matplotlib.figure.Figure at 0x110203588>"
      ]
     },
     "metadata": {},
     "output_type": "display_data"
    }
   ],
   "source": [
    "plt.plot(mnys)\n",
    "plt.show()"
   ]
  },
  {
   "cell_type": "code",
   "execution_count": null,
   "metadata": {
    "collapsed": true
   },
   "outputs": [],
   "source": []
  }
 ],
 "metadata": {
  "kernelspec": {
   "display_name": "Python 3",
   "language": "python",
   "name": "python3"
  },
  "language_info": {
   "codemirror_mode": {
    "name": "ipython",
    "version": 3
   },
   "file_extension": ".py",
   "mimetype": "text/x-python",
   "name": "python",
   "nbconvert_exporter": "python",
   "pygments_lexer": "ipython3",
   "version": "3.6.0"
  }
 },
 "nbformat": 4,
 "nbformat_minor": 2
}
