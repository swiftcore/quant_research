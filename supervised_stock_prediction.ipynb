{
 "cells": [
  {
   "cell_type": "markdown",
   "metadata": {},
   "source": [
    "# 监督式机器学习应用于股票择时\n",
    "\n",
    "使用Supervised Learning 进行股票价格方向的预测。\n",
    "\n",
    "首先，加载股票数据，在本文中，使用平安银行000001.SZ作为测试股票，使用上证指数000001.SH作为基准数据。\n",
    "\n",
    "预测目标是：\n",
    "\n",
    "在给定的环境下（由很多列属性数据来构造），\n",
    "\n",
    "属性数据包括：\n",
    "\n",
    "    Adj close: 复权后的收盘价\n",
    "    Daily volumn: 日成交量\n",
    "    2-day net price change: 相邻两天价差的百分比\n",
    "    10-day standard deviation: 10日股价std\n",
    "    10-day moving average: 10日股价移动均值\n",
    "    50-day standard deviation: 50日股价std\n",
    "    50-day moving average: 50日股价移动均值\n",
    "    10-day rolling beta against baseline: 10日对基准的移动beta\n",
    "    50-day rolling beta against baseline: 50日对基准的移动beta\n",
    "\n",
    "时间区间是\n",
    "2015.01.01 - 2017.01.01\n",
    "\n",
    "使用时间区内的日线数据\n"
   ]
  },
  {
   "cell_type": "code",
   "execution_count": 50,
   "metadata": {
    "collapsed": true
   },
   "outputs": [],
   "source": [
    "import tquotes.tquotes as tq\n",
    "import pandas as pd\n",
    "import numpy as np\n",
    "from sklearn.linear_model import LinearRegression, LogisticRegression\n",
    "from sklearn.cross_validation import train_test_split\n",
    "from sklearn.preprocessing import scale, StandardScaler\n",
    "import tquotes.algos as algos\n",
    "from datetime import datetime\n",
    "import bisect"
   ]
  },
  {
   "cell_type": "code",
   "execution_count": 4,
   "metadata": {
    "collapsed": false
   },
   "outputs": [],
   "source": [
    "# 加载数据\n",
    "startDate = '20150101'\n",
    "endDate = '20170101'\n",
    "\n",
    "stk = '000001'\n",
    "indexCode = '000001'\n",
    "\n",
    "dayData = tq.load_day_data_between(stk, startDate, endDate)\n",
    "# 将日线数据切片到规定的日期之内\n",
    "dayIndexData = tq.load_day_index_between(indexCode, startDate, endDate)"
   ]
  },
  {
   "cell_type": "code",
   "execution_count": 5,
   "metadata": {
    "collapsed": false
   },
   "outputs": [
    {
     "name": "stdout",
     "output_type": "stream",
     "text": [
      "                  tm   open   high    low  close   volumn     in_money  \\\n",
      "2015-01-05  20150105  15.99  16.27  15.61  16.02  2860436  12323532.84   \n",
      "2015-01-06  20150106  15.85  16.38  15.56  15.78  2166421   9615361.68   \n",
      "2015-01-07  20150107  15.56  15.82  15.30  15.48  1700121   6881415.08   \n",
      "2015-01-08  20150108  15.50  15.57  14.92  14.96  1407714   4504305.38   \n",
      "2015-01-09  20150109  14.90  15.86  14.71  15.08  2508500  10868493.67   \n",
      "\n",
      "              out_money       amount  prev_close  \n",
      "2015-01-05  13713257.98  45652143.71       15.84  \n",
      "2015-01-06  11596141.69  34534541.49       16.02  \n",
      "2015-01-07   8349741.86  26350491.88       15.78  \n",
      "2015-01-08   6885389.53  21283735.97       15.48  \n",
      "2015-01-09  10977883.54  38353577.86       14.96  \n",
      "                  tm  open  high   low  close  volumn   in_money   out_money  \\\n",
      "2016-12-27  20161227  9.12  9.13  9.07   9.08  268717  529887.07   740479.00   \n",
      "2016-12-28  20161228  9.08  9.11  9.04   9.06  335963  475345.22   662408.89   \n",
      "2016-12-29  20161229  9.07  9.09  9.05   9.08  338669  625250.24   778407.06   \n",
      "2016-12-30  20161230  9.08  9.10  9.06   9.10  302381  464354.12   642427.86   \n",
      "2017-01-03  20170103  9.11  9.18  9.09   9.16  459768  954578.13  1057002.47   \n",
      "\n",
      "                amount  prev_close  \n",
      "2016-12-27  2446556.25        9.12  \n",
      "2016-12-28  3048248.43        9.08  \n",
      "2016-12-29  3071046.10        9.06  \n",
      "2016-12-30  2746899.45        9.08  \n",
      "2017-01-03  4205252.36        9.10  \n"
     ]
    }
   ],
   "source": [
    "print(dayData.head())\n",
    "print(dayData.tail())"
   ]
  },
  {
   "cell_type": "code",
   "execution_count": 6,
   "metadata": {
    "collapsed": false
   },
   "outputs": [
    {
     "data": {
      "text/html": [
       "<div>\n",
       "<style>\n",
       "    .dataframe thead tr:only-child th {\n",
       "        text-align: right;\n",
       "    }\n",
       "\n",
       "    .dataframe thead th {\n",
       "        text-align: left;\n",
       "    }\n",
       "\n",
       "    .dataframe tbody tr th {\n",
       "        vertical-align: top;\n",
       "    }\n",
       "</style>\n",
       "<table border=\"1\" class=\"dataframe\">\n",
       "  <thead>\n",
       "    <tr style=\"text-align: right;\">\n",
       "      <th></th>\n",
       "      <th>tm</th>\n",
       "      <th>open</th>\n",
       "      <th>high</th>\n",
       "      <th>low</th>\n",
       "      <th>close</th>\n",
       "      <th>volumn</th>\n",
       "    </tr>\n",
       "  </thead>\n",
       "  <tbody>\n",
       "    <tr>\n",
       "      <th>2015-01-05</th>\n",
       "      <td>2015-01-05</td>\n",
       "      <td>3258.62</td>\n",
       "      <td>3369.01</td>\n",
       "      <td>3253.88</td>\n",
       "      <td>3350.51</td>\n",
       "      <td>54471306</td>\n",
       "    </tr>\n",
       "    <tr>\n",
       "      <th>2015-01-06</th>\n",
       "      <td>2015-01-06</td>\n",
       "      <td>3330.79</td>\n",
       "      <td>3393.86</td>\n",
       "      <td>3303.59</td>\n",
       "      <td>3351.44</td>\n",
       "      <td>52735197</td>\n",
       "    </tr>\n",
       "    <tr>\n",
       "      <th>2015-01-07</th>\n",
       "      <td>2015-01-07</td>\n",
       "      <td>3326.64</td>\n",
       "      <td>3374.75</td>\n",
       "      <td>3312.21</td>\n",
       "      <td>3373.95</td>\n",
       "      <td>43472524</td>\n",
       "    </tr>\n",
       "    <tr>\n",
       "      <th>2015-01-08</th>\n",
       "      <td>2015-01-08</td>\n",
       "      <td>3371.95</td>\n",
       "      <td>3380.44</td>\n",
       "      <td>3285.60</td>\n",
       "      <td>3293.45</td>\n",
       "      <td>39921659</td>\n",
       "    </tr>\n",
       "    <tr>\n",
       "      <th>2015-01-09</th>\n",
       "      <td>2015-01-09</td>\n",
       "      <td>3276.96</td>\n",
       "      <td>3404.42</td>\n",
       "      <td>3267.80</td>\n",
       "      <td>3285.41</td>\n",
       "      <td>45695625</td>\n",
       "    </tr>\n",
       "  </tbody>\n",
       "</table>\n",
       "</div>"
      ],
      "text/plain": [
       "                   tm     open     high      low    close    volumn\n",
       "2015-01-05 2015-01-05  3258.62  3369.01  3253.88  3350.51  54471306\n",
       "2015-01-06 2015-01-06  3330.79  3393.86  3303.59  3351.44  52735197\n",
       "2015-01-07 2015-01-07  3326.64  3374.75  3312.21  3373.95  43472524\n",
       "2015-01-08 2015-01-08  3371.95  3380.44  3285.60  3293.45  39921659\n",
       "2015-01-09 2015-01-09  3276.96  3404.42  3267.80  3285.41  45695625"
      ]
     },
     "execution_count": 6,
     "metadata": {},
     "output_type": "execute_result"
    }
   ],
   "source": [
    "dayIndexData.head()"
   ]
  },
  {
   "cell_type": "code",
   "execution_count": 9,
   "metadata": {
    "collapsed": false
   },
   "outputs": [
    {
     "name": "stdout",
     "output_type": "stream",
     "text": [
      "stock data (489, 10)\n",
      "index data (489, 6)\n"
     ]
    }
   ],
   "source": [
    "print('stock data', dayData.shape)\n",
    "print('index data', dayIndexData.shape)"
   ]
  },
  {
   "cell_type": "code",
   "execution_count": 7,
   "metadata": {
    "collapsed": false
   },
   "outputs": [
    {
     "data": {
      "text/html": [
       "<div>\n",
       "<style>\n",
       "    .dataframe thead tr:only-child th {\n",
       "        text-align: right;\n",
       "    }\n",
       "\n",
       "    .dataframe thead th {\n",
       "        text-align: left;\n",
       "    }\n",
       "\n",
       "    .dataframe tbody tr th {\n",
       "        vertical-align: top;\n",
       "    }\n",
       "</style>\n",
       "<table border=\"1\" class=\"dataframe\">\n",
       "  <thead>\n",
       "    <tr style=\"text-align: right;\">\n",
       "      <th></th>\n",
       "      <th>tm</th>\n",
       "      <th>open</th>\n",
       "      <th>high</th>\n",
       "      <th>low</th>\n",
       "      <th>close</th>\n",
       "      <th>volumn</th>\n",
       "    </tr>\n",
       "  </thead>\n",
       "  <tbody>\n",
       "    <tr>\n",
       "      <th>2016-12-27</th>\n",
       "      <td>2016-12-27</td>\n",
       "      <td>3117.38</td>\n",
       "      <td>3127.71</td>\n",
       "      <td>3113.74</td>\n",
       "      <td>3114.66</td>\n",
       "      <td>16217960</td>\n",
       "    </tr>\n",
       "    <tr>\n",
       "      <th>2016-12-28</th>\n",
       "      <td>2016-12-28</td>\n",
       "      <td>3113.76</td>\n",
       "      <td>3118.78</td>\n",
       "      <td>3094.54</td>\n",
       "      <td>3102.23</td>\n",
       "      <td>15431549</td>\n",
       "    </tr>\n",
       "    <tr>\n",
       "      <th>2016-12-29</th>\n",
       "      <td>2016-12-29</td>\n",
       "      <td>3095.84</td>\n",
       "      <td>3111.79</td>\n",
       "      <td>3087.56</td>\n",
       "      <td>3096.09</td>\n",
       "      <td>14990488</td>\n",
       "    </tr>\n",
       "    <tr>\n",
       "      <th>2016-12-30</th>\n",
       "      <td>2016-12-30</td>\n",
       "      <td>3097.34</td>\n",
       "      <td>3108.80</td>\n",
       "      <td>3089.99</td>\n",
       "      <td>3103.63</td>\n",
       "      <td>15171833</td>\n",
       "    </tr>\n",
       "    <tr>\n",
       "      <th>2017-01-03</th>\n",
       "      <td>2017-01-03</td>\n",
       "      <td>3105.30</td>\n",
       "      <td>3136.45</td>\n",
       "      <td>3105.30</td>\n",
       "      <td>3135.92</td>\n",
       "      <td>15987288</td>\n",
       "    </tr>\n",
       "  </tbody>\n",
       "</table>\n",
       "</div>"
      ],
      "text/plain": [
       "                   tm     open     high      low    close    volumn\n",
       "2016-12-27 2016-12-27  3117.38  3127.71  3113.74  3114.66  16217960\n",
       "2016-12-28 2016-12-28  3113.76  3118.78  3094.54  3102.23  15431549\n",
       "2016-12-29 2016-12-29  3095.84  3111.79  3087.56  3096.09  14990488\n",
       "2016-12-30 2016-12-30  3097.34  3108.80  3089.99  3103.63  15171833\n",
       "2017-01-03 2017-01-03  3105.30  3136.45  3105.30  3135.92  15987288"
      ]
     },
     "execution_count": 7,
     "metadata": {},
     "output_type": "execute_result"
    }
   ],
   "source": [
    "dayIndexData.tail()"
   ]
  },
  {
   "cell_type": "code",
   "execution_count": 34,
   "metadata": {
    "collapsed": true
   },
   "outputs": [],
   "source": [
    "def ols_data(y, x, window=10):\n",
    "    \"\"\"\n",
    "    实现ols 功能\n",
    "    \"\"\"\n",
    "    yArr = y.values\n",
    "    xArr = x.values\n",
    "    \n",
    "    ratios = []\n",
    "    for i in range(2, x.shape[0]):\n",
    "        starti = i - window\n",
    "        starti = 0 if starti < 0 else 0\n",
    "        x_piece = xArr[starti: i]\n",
    "        y_piece = yArr[starti: i]\n",
    "        \n",
    "        lr = LinearRegression()\n",
    "        lr.fit(x_piece.reshape(-1, 1), y_piece)\n",
    "        ratios.append(lr.coef_[0])\n",
    "        \n",
    "    ratios.insert(0, 0)\n",
    "    ratios.insert(0, 0)\n",
    "    s = pd.Series(ratios, index=x.index)\n",
    "    return  s.fillna(-99)"
   ]
  },
  {
   "cell_type": "code",
   "execution_count": 46,
   "metadata": {
    "collapsed": false
   },
   "outputs": [
    {
     "name": "stderr",
     "output_type": "stream",
     "text": [
      "/anaconda/lib/python3.6/site-packages/ipykernel_launcher.py:8: SettingWithCopyWarning: \n",
      "A value is trying to be set on a copy of a slice from a DataFrame.\n",
      "Try using .loc[row_indexer,col_indexer] = value instead\n",
      "\n",
      "See the caveats in the documentation: http://pandas.pydata.org/pandas-docs/stable/indexing.html#indexing-view-versus-copy\n",
      "  \n",
      "/anaconda/lib/python3.6/site-packages/ipykernel_launcher.py:11: SettingWithCopyWarning: \n",
      "A value is trying to be set on a copy of a slice from a DataFrame.\n",
      "Try using .loc[row_indexer,col_indexer] = value instead\n",
      "\n",
      "See the caveats in the documentation: http://pandas.pydata.org/pandas-docs/stable/indexing.html#indexing-view-versus-copy\n",
      "  # This is added back by InteractiveShellApp.init_path()\n",
      "/anaconda/lib/python3.6/site-packages/ipykernel_launcher.py:13: SettingWithCopyWarning: \n",
      "A value is trying to be set on a copy of a slice from a DataFrame.\n",
      "Try using .loc[row_indexer,col_indexer] = value instead\n",
      "\n",
      "See the caveats in the documentation: http://pandas.pydata.org/pandas-docs/stable/indexing.html#indexing-view-versus-copy\n",
      "  del sys.path[0]\n",
      "/anaconda/lib/python3.6/site-packages/ipykernel_launcher.py:15: SettingWithCopyWarning: \n",
      "A value is trying to be set on a copy of a slice from a DataFrame.\n",
      "Try using .loc[row_indexer,col_indexer] = value instead\n",
      "\n",
      "See the caveats in the documentation: http://pandas.pydata.org/pandas-docs/stable/indexing.html#indexing-view-versus-copy\n",
      "  from ipykernel import kernelapp as app\n",
      "/anaconda/lib/python3.6/site-packages/ipykernel_launcher.py:17: SettingWithCopyWarning: \n",
      "A value is trying to be set on a copy of a slice from a DataFrame.\n",
      "Try using .loc[row_indexer,col_indexer] = value instead\n",
      "\n",
      "See the caveats in the documentation: http://pandas.pydata.org/pandas-docs/stable/indexing.html#indexing-view-versus-copy\n"
     ]
    },
    {
     "name": "stdout",
     "output_type": "stream",
     "text": [
      "(488, 12)\n"
     ]
    }
   ],
   "source": [
    "# 构造预测属性\n",
    "attrData = dayData[['tm', 'close', 'prev_close', 'amount']]\n",
    "attrIndexData = dayIndexData[['tm', 'close']]\n",
    "# Adj. close ；close属性就是复权后的价格\n",
    "# Daily volumn: 使用交易额amount代替，以免复权的影响\n",
    "\n",
    "# 2-day price pct_change\n",
    "attrData['pct_change'] = (attrData['close'] - attrData['prev_close']) / (attrData['prev_close']) * 100\n",
    "\n",
    "# 10-day std\n",
    "attrData['std_10'] = attrData['close'].rolling(window=10, min_periods=0).std()\n",
    "# 50-day std\n",
    "attrData['std_50'] = attrData['close'].rolling(window=50, min_periods=0).std()\n",
    "# 10-day ma\n",
    "attrData['ma_10'] = attrData['close'].rolling(window=10, min_periods=0).mean()\n",
    "# 50-day ma\n",
    "attrData['ma_50'] = attrData['close'].rolling(window=50, min_periods=0).mean()\n",
    "\n",
    "\n",
    "# 10-day rolling beta against baseline；用10天的数据做回归，取自变量x的系数\n",
    "# pandas 已经不再支持ols功能，只能自己实现了。\n",
    "\n",
    "# ols_ret_10 = pd.ols(y=attrData['pct_change'], x=attrIndexData['close'].pct_change(), window=10, window_type='rolling')\n",
    "ols_ret_10 = ols_data(attrData['pct_change'].fillna(-99), attrIndexData['close'].pct_change().fillna(-99), window=10)\n",
    "attrData['beta_10'] = ols_ret_10\n",
    "# 50-day rolling beta against baseline; 用50天的数据做回归，去自变量x的系数\n",
    "# ols_ret_50 = pd.ols(y=attrData['pct_change'], x=attrIndexData['close'].pct_change(), window=50, window_type='rolling')\n",
    "ols_ret_50 = ols_data(attrData['pct_change'].fillna(-99), attrIndexData['close'].pct_change().fillna(-99), window=50)\n",
    "attrData['beta_50'] = ols_ret_50\n",
    "\n",
    "# 目标数据构造；目标值是30天之后的收盘价是否大于当前的收盘价\n",
    "# 如果是：表示是处于牛市趋势中，bull 用1表示\n",
    "# 如果不是：表示是处在熊市趋势中，bear  用0表示\n",
    "y = np.where((attrData['close'].shift(-30) - attrData['close']) > 0, 1, 0)\n",
    "\n",
    "attrData['y'] = y\n",
    "\n",
    "attrData = attrData.dropna(axis=0)\n",
    "print(attrData.shape)"
   ]
  },
  {
   "cell_type": "code",
   "execution_count": 47,
   "metadata": {
    "collapsed": false
   },
   "outputs": [
    {
     "data": {
      "text/html": [
       "<div>\n",
       "<style>\n",
       "    .dataframe thead tr:only-child th {\n",
       "        text-align: right;\n",
       "    }\n",
       "\n",
       "    .dataframe thead th {\n",
       "        text-align: left;\n",
       "    }\n",
       "\n",
       "    .dataframe tbody tr th {\n",
       "        vertical-align: top;\n",
       "    }\n",
       "</style>\n",
       "<table border=\"1\" class=\"dataframe\">\n",
       "  <thead>\n",
       "    <tr style=\"text-align: right;\">\n",
       "      <th></th>\n",
       "      <th>tm</th>\n",
       "      <th>close</th>\n",
       "      <th>prev_close</th>\n",
       "      <th>amount</th>\n",
       "      <th>pct_change</th>\n",
       "      <th>std_10</th>\n",
       "      <th>std_50</th>\n",
       "      <th>ma_10</th>\n",
       "      <th>ma_50</th>\n",
       "      <th>beta_10</th>\n",
       "      <th>beta_50</th>\n",
       "      <th>y</th>\n",
       "    </tr>\n",
       "  </thead>\n",
       "  <tbody>\n",
       "    <tr>\n",
       "      <th>2015-01-06</th>\n",
       "      <td>20150106</td>\n",
       "      <td>15.78</td>\n",
       "      <td>16.02</td>\n",
       "      <td>34534541.49</td>\n",
       "      <td>-1.498127</td>\n",
       "      <td>0.169706</td>\n",
       "      <td>0.169706</td>\n",
       "      <td>15.900000</td>\n",
       "      <td>15.900000</td>\n",
       "      <td>0.000000</td>\n",
       "      <td>0.000000</td>\n",
       "      <td>0</td>\n",
       "    </tr>\n",
       "    <tr>\n",
       "      <th>2015-01-07</th>\n",
       "      <td>20150107</td>\n",
       "      <td>15.48</td>\n",
       "      <td>15.78</td>\n",
       "      <td>26350491.88</td>\n",
       "      <td>-1.901141</td>\n",
       "      <td>0.270555</td>\n",
       "      <td>0.270555</td>\n",
       "      <td>15.760000</td>\n",
       "      <td>15.760000</td>\n",
       "      <td>-0.026611</td>\n",
       "      <td>-0.026611</td>\n",
       "      <td>0</td>\n",
       "    </tr>\n",
       "    <tr>\n",
       "      <th>2015-01-08</th>\n",
       "      <td>20150108</td>\n",
       "      <td>14.96</td>\n",
       "      <td>15.48</td>\n",
       "      <td>21283735.97</td>\n",
       "      <td>-3.359173</td>\n",
       "      <td>0.456946</td>\n",
       "      <td>0.456946</td>\n",
       "      <td>15.560000</td>\n",
       "      <td>15.560000</td>\n",
       "      <td>-0.028646</td>\n",
       "      <td>-0.028646</td>\n",
       "      <td>0</td>\n",
       "    </tr>\n",
       "    <tr>\n",
       "      <th>2015-01-09</th>\n",
       "      <td>20150109</td>\n",
       "      <td>15.08</td>\n",
       "      <td>14.96</td>\n",
       "      <td>38353577.86</td>\n",
       "      <td>0.802139</td>\n",
       "      <td>0.450200</td>\n",
       "      <td>0.450200</td>\n",
       "      <td>15.464000</td>\n",
       "      <td>15.464000</td>\n",
       "      <td>-0.034232</td>\n",
       "      <td>-0.034232</td>\n",
       "      <td>0</td>\n",
       "    </tr>\n",
       "    <tr>\n",
       "      <th>2015-01-12</th>\n",
       "      <td>20150112</td>\n",
       "      <td>14.77</td>\n",
       "      <td>15.08</td>\n",
       "      <td>22932169.31</td>\n",
       "      <td>-2.055703</td>\n",
       "      <td>0.492358</td>\n",
       "      <td>0.492358</td>\n",
       "      <td>15.348333</td>\n",
       "      <td>15.348333</td>\n",
       "      <td>-0.026516</td>\n",
       "      <td>-0.026516</td>\n",
       "      <td>0</td>\n",
       "    </tr>\n",
       "  </tbody>\n",
       "</table>\n",
       "</div>"
      ],
      "text/plain": [
       "                  tm  close  prev_close       amount  pct_change    std_10  \\\n",
       "2015-01-06  20150106  15.78       16.02  34534541.49   -1.498127  0.169706   \n",
       "2015-01-07  20150107  15.48       15.78  26350491.88   -1.901141  0.270555   \n",
       "2015-01-08  20150108  14.96       15.48  21283735.97   -3.359173  0.456946   \n",
       "2015-01-09  20150109  15.08       14.96  38353577.86    0.802139  0.450200   \n",
       "2015-01-12  20150112  14.77       15.08  22932169.31   -2.055703  0.492358   \n",
       "\n",
       "              std_50      ma_10      ma_50   beta_10   beta_50  y  \n",
       "2015-01-06  0.169706  15.900000  15.900000  0.000000  0.000000  0  \n",
       "2015-01-07  0.270555  15.760000  15.760000 -0.026611 -0.026611  0  \n",
       "2015-01-08  0.456946  15.560000  15.560000 -0.028646 -0.028646  0  \n",
       "2015-01-09  0.450200  15.464000  15.464000 -0.034232 -0.034232  0  \n",
       "2015-01-12  0.492358  15.348333  15.348333 -0.026516 -0.026516  0  "
      ]
     },
     "execution_count": 47,
     "metadata": {},
     "output_type": "execute_result"
    }
   ],
   "source": [
    "attrData.head()"
   ]
  },
  {
   "cell_type": "code",
   "execution_count": 48,
   "metadata": {
    "collapsed": false
   },
   "outputs": [
    {
     "name": "stdout",
     "output_type": "stream",
     "text": [
      "0    292\n",
      "1    196\n",
      "Name: y, dtype: int64\n"
     ]
    }
   ],
   "source": [
    "print(attrData['y'].value_counts())"
   ]
  },
  {
   "cell_type": "code",
   "execution_count": 57,
   "metadata": {
    "collapsed": false
   },
   "outputs": [
    {
     "name": "stdout",
     "output_type": "stream",
     "text": [
      "logreg score 69.388\n"
     ]
    }
   ],
   "source": [
    "# 构造训练数据和测试数据\n",
    "X = attrData[['close', 'amount', 'pct_change', 'std_10', 'std_50', 'ma_10', 'ma_50', 'beta_10', 'beta_50']].values\n",
    "norm_scaler = StandardScaler()\n",
    "X_norm = norm_scaler.fit_transform(X)\n",
    "\n",
    "y = attrData['y'].values\n",
    "\n",
    "X_train, X_test, y_train, y_test = train_test_split(X_norm, y, test_size=0.1)\n",
    "\n",
    "logreg = LogisticRegression()\n",
    "logreg.fit(X_train, y_train)\n",
    "print('logreg score {:.3f}'.format(logreg.score(X_test, y_test)*100))"
   ]
  },
  {
   "cell_type": "markdown",
   "metadata": {},
   "source": [
    "## 预测结论\n",
    "\n",
    "从上面的预测实验中，我们可以看出，如果运行多次训练和测试过程，发现预测的效果差异性较大，并不稳定。\n",
    "\n",
    "可能是Logistic模型的问题，可以换用其他类型的模型来提高准确度。\n",
    "\n",
    "下面设法将其运用到回测的过程中。"
   ]
  },
  {
   "cell_type": "code",
   "execution_count": null,
   "metadata": {
    "collapsed": true
   },
   "outputs": [],
   "source": []
  }
 ],
 "metadata": {
  "kernelspec": {
   "display_name": "Python 3",
   "language": "python",
   "name": "python3"
  },
  "language_info": {
   "codemirror_mode": {
    "name": "ipython",
    "version": 3
   },
   "file_extension": ".py",
   "mimetype": "text/x-python",
   "name": "python",
   "nbconvert_exporter": "python",
   "pygments_lexer": "ipython3",
   "version": "3.6.0"
  }
 },
 "nbformat": 4,
 "nbformat_minor": 2
}
